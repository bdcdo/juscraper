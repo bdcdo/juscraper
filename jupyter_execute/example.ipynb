{
 "cells": [
  {
   "cell_type": "markdown",
   "metadata": {},
   "source": [
    "# Exemplo de uso\n",
    "\n",
    "Para usar o juscraper, rode algo assim:"
   ]
  },
  {
   "cell_type": "code",
   "execution_count": 2,
   "metadata": {},
   "outputs": [
    {
     "name": "stdout",
     "output_type": "stream",
     "text": [
      "Total de páginas: 2213\n",
      "Paginas a serem baixadas: [1, 2]\n"
     ]
    },
    {
     "name": "stderr",
     "output_type": "stream",
     "text": [
      "Baixando documentos: 100%|██████████| 2/2 [00:01<00:00,  1.78it/s]\n",
      "Processando documentos: 100%|██████████| 2/2 [00:00<00:00, 23.04it/s]\n"
     ]
    },
    {
     "data": {
      "text/html": [
       "<div>\n",
       "<style scoped>\n",
       "    .dataframe tbody tr th:only-of-type {\n",
       "        vertical-align: middle;\n",
       "    }\n",
       "\n",
       "    .dataframe tbody tr th {\n",
       "        vertical-align: top;\n",
       "    }\n",
       "\n",
       "    .dataframe thead th {\n",
       "        text-align: right;\n",
       "    }\n",
       "</style>\n",
       "<table border=\"1\" class=\"dataframe\">\n",
       "  <thead>\n",
       "    <tr style=\"text-align: right;\">\n",
       "      <th></th>\n",
       "      <th>cd_processo</th>\n",
       "      <th>id_processo</th>\n",
       "      <th>classe</th>\n",
       "      <th>assunto</th>\n",
       "      <th>magistrado</th>\n",
       "      <th>comarca</th>\n",
       "      <th>foro</th>\n",
       "      <th>vara</th>\n",
       "      <th>data_disponibilizacao</th>\n",
       "      <th>decisao</th>\n",
       "    </tr>\n",
       "  </thead>\n",
       "  <tbody>\n",
       "    <tr>\n",
       "      <th>0</th>\n",
       "      <td>7G0006O9V0000</td>\n",
       "      <td>1008430-56.2024.8.26.0268</td>\n",
       "      <td>Procedimento do Juizado Especial Cível</td>\n",
       "      <td>Obrigações</td>\n",
       "      <td>PATRICIA DE ASSIS FERREIRA BRAGUINI</td>\n",
       "      <td>Itapecerica da Serra</td>\n",
       "      <td>Foro de Itapecerica da Serra</td>\n",
       "      <td>Juizado Especial Cível e Criminal</td>\n",
       "      <td>05/02/2025</td>\n",
       "      <td>SENTENÇA\\n\\n\\n\\nProcesso Digital nº:\\t1008430-...</td>\n",
       "    </tr>\n",
       "    <tr>\n",
       "      <th>1</th>\n",
       "      <td>360015Z7A0000</td>\n",
       "      <td>1053443-55.2024.8.26.0114</td>\n",
       "      <td>Procedimento do Juizado Especial Cível</td>\n",
       "      <td>Inclusão Indevida em Cadastro de Inadimplentes</td>\n",
       "      <td>Fernanda Franco Bueno Cáceres</td>\n",
       "      <td>Campinas</td>\n",
       "      <td>Foro de Campinas</td>\n",
       "      <td>3ª Vara do Juizado Especial Civel</td>\n",
       "      <td>04/02/2025</td>\n",
       "      <td>SENTENÇA\\n\\n\\n\\nProcesso Digital nº:\\t1053443-...</td>\n",
       "    </tr>\n",
       "    <tr>\n",
       "      <th>2</th>\n",
       "      <td>EP0006NGL0000</td>\n",
       "      <td>1006200-34.2024.8.26.0529</td>\n",
       "      <td>Procedimento Comum Cível</td>\n",
       "      <td>Responsabilidade do Fornecedor</td>\n",
       "      <td>THAÍS DA SILVA PORTO</td>\n",
       "      <td>Santana de Parnaíba</td>\n",
       "      <td>Foro de Santana de Parnaíba</td>\n",
       "      <td>3ª Vara Cível</td>\n",
       "      <td>04/02/2025</td>\n",
       "      <td>SENTENÇA\\n\\n\\n\\nProcesso Digital nº:\\t1006200-...</td>\n",
       "    </tr>\n",
       "  </tbody>\n",
       "</table>\n",
       "</div>"
      ],
      "text/plain": [
       "     cd_processo                id_processo  \\\n",
       "0  7G0006O9V0000  1008430-56.2024.8.26.0268   \n",
       "1  360015Z7A0000  1053443-55.2024.8.26.0114   \n",
       "2  EP0006NGL0000  1006200-34.2024.8.26.0529   \n",
       "\n",
       "                                   classe  \\\n",
       "0  Procedimento do Juizado Especial Cível   \n",
       "1  Procedimento do Juizado Especial Cível   \n",
       "2                Procedimento Comum Cível   \n",
       "\n",
       "                                          assunto  \\\n",
       "0                                      Obrigações   \n",
       "1  Inclusão Indevida em Cadastro de Inadimplentes   \n",
       "2                  Responsabilidade do Fornecedor   \n",
       "\n",
       "                            magistrado               comarca  \\\n",
       "0  PATRICIA DE ASSIS FERREIRA BRAGUINI  Itapecerica da Serra   \n",
       "1        Fernanda Franco Bueno Cáceres              Campinas   \n",
       "2                 THAÍS DA SILVA PORTO   Santana de Parnaíba   \n",
       "\n",
       "                           foro                               vara  \\\n",
       "0  Foro de Itapecerica da Serra  Juizado Especial Cível e Criminal   \n",
       "1              Foro de Campinas  3ª Vara do Juizado Especial Civel   \n",
       "2   Foro de Santana de Parnaíba                      3ª Vara Cível   \n",
       "\n",
       "  data_disponibilizacao                                            decisao  \n",
       "0            05/02/2025  SENTENÇA\\n\\n\\n\\nProcesso Digital nº:\\t1008430-...  \n",
       "1            04/02/2025  SENTENÇA\\n\\n\\n\\nProcesso Digital nº:\\t1053443-...  \n",
       "2            04/02/2025  SENTENÇA\\n\\n\\n\\nProcesso Digital nº:\\t1006200-...  "
      ]
     },
     "execution_count": null,
     "metadata": {},
     "output_type": "execute_result"
    }
   ],
   "source": [
    "import juscraper as jus\n",
    "\n",
    "# cria um objeto tjsp\n",
    "tjsp = jus.scraper('tjsp')\n",
    "\n",
    "# baixa dados da [c]onsulta de [j]ulgados de [p]rimeiro [g]rau - cjpg\n",
    "dados_cjpg = tjsp.cjpg('golpe do pix', paginas=range(1,3))\n",
    "dados_cjpg.head(3)"
   ]
  }
 ],
 "metadata": {
  "kernelspec": {
   "display_name": "Python 3",
   "language": "python",
   "name": "python3"
  },
  "language_info": {
   "codemirror_mode": {
    "name": "ipython",
    "version": 3
   },
   "file_extension": ".py",
   "mimetype": "text/x-python",
   "name": "python",
   "nbconvert_exporter": "python",
   "pygments_lexer": "ipython3",
   "version": "3.8.5"
  }
 },
 "nbformat": 4,
 "nbformat_minor": 4
}