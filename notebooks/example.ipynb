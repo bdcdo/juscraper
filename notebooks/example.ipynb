{
 "cells": [
  {
   "cell_type": "markdown",
   "metadata": {},
   "source": [
    "# Exemplo de uso\n",
    "\n",
    "Para usar o juscraper, rode algo assim:"
   ]
  },
  {
   "cell_type": "code",
   "execution_count": 1,
   "metadata": {},
   "outputs": [
    {
     "name": "stderr",
     "output_type": "stream",
     "text": [
      "Baixando documentos: 100%|██████████| 3/3 [00:01<00:00,  1.50it/s]\n",
      "Processando documentos: 100%|██████████| 3/3 [00:00<00:00,  7.14it/s]"
     ]
    },
    {
     "name": "stdout",
     "output_type": "stream",
     "text": [
      "(30, 10)\n"
     ]
    },
    {
     "name": "stderr",
     "output_type": "stream",
     "text": [
      "\n"
     ]
    },
    {
     "data": {
      "text/html": [
       "<div>\n",
       "<style scoped>\n",
       "    .dataframe tbody tr th:only-of-type {\n",
       "        vertical-align: middle;\n",
       "    }\n",
       "\n",
       "    .dataframe tbody tr th {\n",
       "        vertical-align: top;\n",
       "    }\n",
       "\n",
       "    .dataframe thead th {\n",
       "        text-align: right;\n",
       "    }\n",
       "</style>\n",
       "<table border=\"1\" class=\"dataframe\">\n",
       "  <thead>\n",
       "    <tr style=\"text-align: right;\">\n",
       "      <th></th>\n",
       "      <th>cd_processo</th>\n",
       "      <th>id_processo</th>\n",
       "      <th>classe</th>\n",
       "      <th>assunto</th>\n",
       "      <th>magistrado</th>\n",
       "      <th>comarca</th>\n",
       "      <th>foro</th>\n",
       "      <th>vara</th>\n",
       "      <th>data_disponibilizacao</th>\n",
       "      <th>decisao</th>\n",
       "    </tr>\n",
       "  </thead>\n",
       "  <tbody>\n",
       "    <tr>\n",
       "      <th>0</th>\n",
       "      <td>GE000EGAQ0000</td>\n",
       "      <td>0002079-25.2023.8.26.0590</td>\n",
       "      <td>Procedimento do Juizado Especial Cível</td>\n",
       "      <td>Indenização por Dano Material</td>\n",
       "      <td>Fernanda Souza Pereira de Lima Carvalho</td>\n",
       "      <td>São Vicente</td>\n",
       "      <td>Foro de São Vicente</td>\n",
       "      <td>Vara do Juizado Especial Cível e Criminal</td>\n",
       "      <td>20/04/2025</td>\n",
       "      <td>SENTENÇA\\n\\n\\n\\nProcesso nº:\\t0002079-25.2023....</td>\n",
       "    </tr>\n",
       "    <tr>\n",
       "      <th>1</th>\n",
       "      <td>GE000G0GT0000</td>\n",
       "      <td>1013124-72.2024.8.26.0590</td>\n",
       "      <td>Procedimento do Juizado Especial Cível</td>\n",
       "      <td>Indenização por Dano Moral</td>\n",
       "      <td>Fernanda Souza Pereira de Lima Carvalho</td>\n",
       "      <td>São Vicente</td>\n",
       "      <td>Foro de São Vicente</td>\n",
       "      <td>Vara do Juizado Especial Cível e Criminal</td>\n",
       "      <td>20/04/2025</td>\n",
       "      <td>SENTENÇA\\n\\n\\n\\nProcesso nº:\\t1013124-72.2024....</td>\n",
       "    </tr>\n",
       "    <tr>\n",
       "      <th>2</th>\n",
       "      <td>B9000L3IK0000</td>\n",
       "      <td>1004174-13.2025.8.26.0405</td>\n",
       "      <td>Procedimento do Juizado Especial Cível</td>\n",
       "      <td>Rescisão do contrato e devolução do dinheiro</td>\n",
       "      <td>Denise Indig Pinheiro</td>\n",
       "      <td>Osasco</td>\n",
       "      <td>Foro de Osasco</td>\n",
       "      <td>2ª Vara do Juizado Especial Cível</td>\n",
       "      <td>20/04/2025</td>\n",
       "      <td>SENTENÇA\\n\\n\\n\\nProcesso Digital nº:\\t1004174-...</td>\n",
       "    </tr>\n",
       "  </tbody>\n",
       "</table>\n",
       "</div>"
      ],
      "text/plain": [
       "     cd_processo                id_processo  \\\n",
       "0  GE000EGAQ0000  0002079-25.2023.8.26.0590   \n",
       "1  GE000G0GT0000  1013124-72.2024.8.26.0590   \n",
       "2  B9000L3IK0000  1004174-13.2025.8.26.0405   \n",
       "\n",
       "                                   classe  \\\n",
       "0  Procedimento do Juizado Especial Cível   \n",
       "1  Procedimento do Juizado Especial Cível   \n",
       "2  Procedimento do Juizado Especial Cível   \n",
       "\n",
       "                                        assunto  \\\n",
       "0                 Indenização por Dano Material   \n",
       "1                    Indenização por Dano Moral   \n",
       "2  Rescisão do contrato e devolução do dinheiro   \n",
       "\n",
       "                                magistrado      comarca                 foro  \\\n",
       "0  Fernanda Souza Pereira de Lima Carvalho  São Vicente  Foro de São Vicente   \n",
       "1  Fernanda Souza Pereira de Lima Carvalho  São Vicente  Foro de São Vicente   \n",
       "2                    Denise Indig Pinheiro       Osasco       Foro de Osasco   \n",
       "\n",
       "                                        vara data_disponibilizacao  \\\n",
       "0  Vara do Juizado Especial Cível e Criminal            20/04/2025   \n",
       "1  Vara do Juizado Especial Cível e Criminal            20/04/2025   \n",
       "2          2ª Vara do Juizado Especial Cível            20/04/2025   \n",
       "\n",
       "                                             decisao  \n",
       "0  SENTENÇA\\n\\n\\n\\nProcesso nº:\\t0002079-25.2023....  \n",
       "1  SENTENÇA\\n\\n\\n\\nProcesso nº:\\t1013124-72.2024....  \n",
       "2  SENTENÇA\\n\\n\\n\\nProcesso Digital nº:\\t1004174-...  "
      ]
     },
     "execution_count": 1,
     "metadata": {},
     "output_type": "execute_result"
    }
   ],
   "source": [
    "import juscraper as jus\n",
    "\n",
    "# cria um objeto tjsp\n",
    "tjsp = jus.scraper('tjsp')\n",
    "\n",
    "# baixa dados da [c]onsulta de [j]ulgados de [p]rimeiro [g]rau - cjpg\n",
    "dados_cjpg = tjsp.cjpg('golpe do pix', paginas=range(0,3))\n",
    "\n",
    "print(dados_cjpg.shape)\n",
    "dados_cjpg.head(3)"
   ]
  },
  {
   "cell_type": "code",
   "execution_count": 2,
   "metadata": {},
   "outputs": [
    {
     "name": "stdout",
     "output_type": "stream",
     "text": [
      "Total de páginas: 453\n",
      "Paginas a serem baixadas: [0, 1, 2]\n"
     ]
    },
    {
     "name": "stderr",
     "output_type": "stream",
     "text": [
      "Baixando documentos: 100%|██████████| 3/3 [00:02<00:00,  1.26it/s]\n",
      "Processando documentos: 100%|██████████| 3/3 [00:00<00:00,  8.22it/s]"
     ]
    },
    {
     "name": "stdout",
     "output_type": "stream",
     "text": [
      "(60, 10)\n"
     ]
    },
    {
     "name": "stderr",
     "output_type": "stream",
     "text": [
      "\n"
     ]
    },
    {
     "data": {
      "text/html": [
       "<div>\n",
       "<style scoped>\n",
       "    .dataframe tbody tr th:only-of-type {\n",
       "        vertical-align: middle;\n",
       "    }\n",
       "\n",
       "    .dataframe tbody tr th {\n",
       "        vertical-align: top;\n",
       "    }\n",
       "\n",
       "    .dataframe thead th {\n",
       "        text-align: right;\n",
       "    }\n",
       "</style>\n",
       "<table border=\"1\" class=\"dataframe\">\n",
       "  <thead>\n",
       "    <tr style=\"text-align: right;\">\n",
       "      <th></th>\n",
       "      <th>processo</th>\n",
       "      <th>cd_acordao</th>\n",
       "      <th>cd_foro</th>\n",
       "      <th>classe_assunto</th>\n",
       "      <th>relatora</th>\n",
       "      <th>comarca</th>\n",
       "      <th>orgao_julgador</th>\n",
       "      <th>data_julgamento</th>\n",
       "      <th>data_publicacao</th>\n",
       "      <th>ementa</th>\n",
       "    </tr>\n",
       "  </thead>\n",
       "  <tbody>\n",
       "    <tr>\n",
       "      <th>0</th>\n",
       "      <td>1013659-16.2024.8.26.0003</td>\n",
       "      <td>19126821</td>\n",
       "      <td>0</td>\n",
       "      <td>Apelação Cível / Cartão de Crédito</td>\n",
       "      <td>Carlos Ortiz Gomes</td>\n",
       "      <td>São Paulo</td>\n",
       "      <td>Órgão julgador: 15ª Câmara de Direito Privado</td>\n",
       "      <td>17/04/2025</td>\n",
       "      <td>17/04/2025</td>\n",
       "      <td>APELAÇÃO - Ação de indenização por danos morai...</td>\n",
       "    </tr>\n",
       "    <tr>\n",
       "      <th>1</th>\n",
       "      <td>1016132-28.2022.8.26.0008</td>\n",
       "      <td>19126537</td>\n",
       "      <td>0</td>\n",
       "      <td>Apelação Cível / Bancários</td>\n",
       "      <td>Nelson Jorge Júnior</td>\n",
       "      <td>São Paulo</td>\n",
       "      <td>Órgão julgador: 13ª Câmara de Direito Privado</td>\n",
       "      <td>17/04/2025</td>\n",
       "      <td>17/04/2025</td>\n",
       "      <td>APELAÇÃO - AÇÃO DECLARATÓRIA DE INEXISTÊNCIA D...</td>\n",
       "    </tr>\n",
       "    <tr>\n",
       "      <th>2</th>\n",
       "      <td>1107211-35.2024.8.26.0100</td>\n",
       "      <td>19126584</td>\n",
       "      <td>0</td>\n",
       "      <td>Apelação Cível / Prestação de Serviços</td>\n",
       "      <td>Lígia Araújo Bisogni</td>\n",
       "      <td>São Paulo</td>\n",
       "      <td>Órgão julgador: 23ª Câmara de Direito Privado</td>\n",
       "      <td>17/04/2025</td>\n",
       "      <td>17/04/2025</td>\n",
       "      <td>AÇÃO DE OBRIGAÇÃO DE FAZER –  Sentença de parc...</td>\n",
       "    </tr>\n",
       "  </tbody>\n",
       "</table>\n",
       "</div>"
      ],
      "text/plain": [
       "                    processo cd_acordao cd_foro  \\\n",
       "0  1013659-16.2024.8.26.0003   19126821       0   \n",
       "1  1016132-28.2022.8.26.0008   19126537       0   \n",
       "2  1107211-35.2024.8.26.0100   19126584       0   \n",
       "\n",
       "                           classe_assunto              relatora    comarca  \\\n",
       "0      Apelação Cível / Cartão de Crédito    Carlos Ortiz Gomes  São Paulo   \n",
       "1              Apelação Cível / Bancários   Nelson Jorge Júnior  São Paulo   \n",
       "2  Apelação Cível / Prestação de Serviços  Lígia Araújo Bisogni  São Paulo   \n",
       "\n",
       "                                  orgao_julgador data_julgamento  \\\n",
       "0  Órgão julgador: 15ª Câmara de Direito Privado      17/04/2025   \n",
       "1  Órgão julgador: 13ª Câmara de Direito Privado      17/04/2025   \n",
       "2  Órgão julgador: 23ª Câmara de Direito Privado      17/04/2025   \n",
       "\n",
       "  data_publicacao                                             ementa  \n",
       "0      17/04/2025  APELAÇÃO - Ação de indenização por danos morai...  \n",
       "1      17/04/2025  APELAÇÃO - AÇÃO DECLARATÓRIA DE INEXISTÊNCIA D...  \n",
       "2      17/04/2025  AÇÃO DE OBRIGAÇÃO DE FAZER –  Sentença de parc...  "
      ]
     },
     "execution_count": 2,
     "metadata": {},
     "output_type": "execute_result"
    }
   ],
   "source": [
    "import juscraper as jus\n",
    "\n",
    "# cria um objeto tjsp\n",
    "tjsp = jus.scraper('tjsp')\n",
    "\n",
    "# baixa dados da [c]onsulta de [j]ulgados de [s]egundo [g]rau - cjsg\n",
    "dados_cjsg = tjsp.cjsg('golpe do pix', paginas=range(0,3))\n",
    "\n",
    "print(dados_cjsg.shape)\n",
    "dados_cjsg.head(3)"
   ]
  }
 ],
 "metadata": {
  "kernelspec": {
   "display_name": ".venv",
   "language": "python",
   "name": "python3"
  },
  "language_info": {
   "codemirror_mode": {
    "name": "ipython",
    "version": 3
   },
   "file_extension": ".py",
   "mimetype": "text/x-python",
   "name": "python",
   "nbconvert_exporter": "python",
   "pygments_lexer": "ipython3",
   "version": "3.12.5"
  }
 },
 "nbformat": 4,
 "nbformat_minor": 4
}
