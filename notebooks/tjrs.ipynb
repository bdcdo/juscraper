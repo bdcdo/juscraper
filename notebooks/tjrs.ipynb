{
 "cells": [
  {
   "cell_type": "code",
   "execution_count": 1,
   "metadata": {},
   "outputs": [
    {
     "data": {
      "text/html": [
       "<div>\n",
       "<style scoped>\n",
       "    .dataframe tbody tr th:only-of-type {\n",
       "        vertical-align: middle;\n",
       "    }\n",
       "\n",
       "    .dataframe tbody tr th {\n",
       "        vertical-align: top;\n",
       "    }\n",
       "\n",
       "    .dataframe thead th {\n",
       "        text-align: right;\n",
       "    }\n",
       "</style>\n",
       "<table border=\"1\" class=\"dataframe\">\n",
       "  <thead>\n",
       "    <tr style=\"text-align: right;\">\n",
       "      <th></th>\n",
       "      <th>processo</th>\n",
       "      <th>relator</th>\n",
       "      <th>orgao_julgador</th>\n",
       "      <th>data_julgamento</th>\n",
       "      <th>data_publicacao</th>\n",
       "      <th>classe_cnj</th>\n",
       "      <th>assunto_cnj</th>\n",
       "      <th>tribunal</th>\n",
       "      <th>tipo_processo</th>\n",
       "      <th>url</th>\n",
       "      <th>ementa</th>\n",
       "    </tr>\n",
       "  </thead>\n",
       "  <tbody>\n",
       "    <tr>\n",
       "      <th>0</th>\n",
       "      <td>50323402820258217000</td>\n",
       "      <td>Fabiane Borges Saraiva</td>\n",
       "      <td>Vigésima Câmara Cível</td>\n",
       "      <td>2025-03-31</td>\n",
       "      <td>2025-03-31</td>\n",
       "      <td>Agravo de Instrumento</td>\n",
       "      <td>Bancários</td>\n",
       "      <td>Tribunal de Justiça do RS</td>\n",
       "      <td>Agravo de Instrumento</td>\n",
       "      <td>https://www.tjrs.jus.br/buscas/jurisprudencia/...</td>\n",
       "      <td>\\n\\nAGRAVO DE INSTRUMENTO. DECISÃO MONOCRÁTICA...</td>\n",
       "    </tr>\n",
       "    <tr>\n",
       "      <th>1</th>\n",
       "      <td>50241847220218210022</td>\n",
       "      <td>Jorge André Pereira Gailhard</td>\n",
       "      <td>Décima Câmara Cível</td>\n",
       "      <td>2025-03-27</td>\n",
       "      <td>2025-03-31</td>\n",
       "      <td>Apelação</td>\n",
       "      <td>Indenização por Dano Material</td>\n",
       "      <td>Tribunal de Justiça do RS</td>\n",
       "      <td>Apelação Cível</td>\n",
       "      <td>https://www.tjrs.jus.br/buscas/jurisprudencia/...</td>\n",
       "      <td>\\n\\nAÇÃO DE INDENIZAÇÃO POR DANOS MATERIAIS E ...</td>\n",
       "    </tr>\n",
       "    <tr>\n",
       "      <th>2</th>\n",
       "      <td>50364887120238210010</td>\n",
       "      <td>Giovanni Conti</td>\n",
       "      <td>Sexta Câmara Cível</td>\n",
       "      <td>2025-03-27</td>\n",
       "      <td>2025-03-31</td>\n",
       "      <td>Apelação</td>\n",
       "      <td>Indenização por Dano Material</td>\n",
       "      <td>Tribunal de Justiça do RS</td>\n",
       "      <td>Apelação Cível</td>\n",
       "      <td>https://www.tjrs.jus.br/buscas/jurisprudencia/...</td>\n",
       "      <td>\\n\\nAPELAÇÃO CÍVEL. RESPONSABILIDADE CIVIL. AÇ...</td>\n",
       "    </tr>\n",
       "  </tbody>\n",
       "</table>\n",
       "</div>"
      ],
      "text/plain": [
       "               processo                       relator         orgao_julgador  \\\n",
       "0  50323402820258217000        Fabiane Borges Saraiva  Vigésima Câmara Cível   \n",
       "1  50241847220218210022  Jorge André Pereira Gailhard    Décima Câmara Cível   \n",
       "2  50364887120238210010                Giovanni Conti     Sexta Câmara Cível   \n",
       "\n",
       "  data_julgamento data_publicacao             classe_cnj  \\\n",
       "0      2025-03-31      2025-03-31  Agravo de Instrumento   \n",
       "1      2025-03-27      2025-03-31               Apelação   \n",
       "2      2025-03-27      2025-03-31               Apelação   \n",
       "\n",
       "                     assunto_cnj                   tribunal  \\\n",
       "0                      Bancários  Tribunal de Justiça do RS   \n",
       "1  Indenização por Dano Material  Tribunal de Justiça do RS   \n",
       "2  Indenização por Dano Material  Tribunal de Justiça do RS   \n",
       "\n",
       "           tipo_processo                                                url  \\\n",
       "0  Agravo de Instrumento  https://www.tjrs.jus.br/buscas/jurisprudencia/...   \n",
       "1         Apelação Cível  https://www.tjrs.jus.br/buscas/jurisprudencia/...   \n",
       "2         Apelação Cível  https://www.tjrs.jus.br/buscas/jurisprudencia/...   \n",
       "\n",
       "                                              ementa  \n",
       "0  \\n\\nAGRAVO DE INSTRUMENTO. DECISÃO MONOCRÁTICA...  \n",
       "1  \\n\\nAÇÃO DE INDENIZAÇÃO POR DANOS MATERIAIS E ...  \n",
       "2  \\n\\nAPELAÇÃO CÍVEL. RESPONSABILIDADE CIVIL. AÇ...  "
      ]
     },
     "execution_count": 1,
     "metadata": {},
     "output_type": "execute_result"
    }
   ],
   "source": [
    "import juscraper as jus\n",
    "\n",
    "# cria um objeto tjrs\n",
    "tjrs = jus.scraper('tjrs')\n",
    "\n",
    "# baixa dados da jurisprudência\n",
    "dados_cjsg = tjrs.cjsg('golpe do pix', paginas=range(0,3))\n",
    "\n",
    "dados_cjsg.head(3)"
   ]
  },
  {
   "cell_type": "code",
   "execution_count": 4,
   "metadata": {},
   "outputs": [
    {
     "data": {
      "text/plain": [
       "(30, 11)"
      ]
     },
     "execution_count": 4,
     "metadata": {},
     "output_type": "execute_result"
    }
   ],
   "source": [
    "dados_cjsg.shape"
   ]
  }
 ],
 "metadata": {
  "kernelspec": {
   "display_name": ".venv",
   "language": "python",
   "name": "python3"
  },
  "language_info": {
   "codemirror_mode": {
    "name": "ipython",
    "version": 3
   },
   "file_extension": ".py",
   "mimetype": "text/x-python",
   "name": "python",
   "nbconvert_exporter": "python",
   "pygments_lexer": "ipython3",
   "version": "3.12.5"
  }
 },
 "nbformat": 4,
 "nbformat_minor": 2
}
